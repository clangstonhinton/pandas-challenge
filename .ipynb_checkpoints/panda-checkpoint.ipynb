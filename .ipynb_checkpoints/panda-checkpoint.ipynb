{
 "cells": [
  {
   "cell_type": "code",
   "execution_count": null,
   "id": "5a81770b",
   "metadata": {},
   "outputs": [],
   "source": [
    "# INSTRUCTIONS\n",
    "# District Summary\n",
    "    # Perform the necessary calculations and then create a high-level snapshot of the district's key metrics in a DataFrame.\n",
    "        # Include the following:\n",
    "            # Total number of unique schools\n",
    "            # Total students\n",
    "            # Total budget\n",
    "            # Average math score\n",
    "            # Average reading score\n",
    "            # % passing math (the percentage of students who passed math)\n",
    "            # % passing reading (the percentage of students who passed reading)\n",
    "            # % overall passing (the percentage of students who passed math AND reading)\n"
   ]
  },
  {
   "cell_type": "code",
   "execution_count": null,
   "id": "a15e887f",
   "metadata": {},
   "outputs": [],
   "source": [
    "# Import modules\n",
    "Import os\n",
    "Import csv\n",
    "Import panda as pd"
   ]
  },
  {
   "cell_type": "code",
   "execution_count": null,
   "id": "12657d6f",
   "metadata": {},
   "outputs": [],
   "source": []
  }
 ],
 "metadata": {
  "kernelspec": {
   "display_name": "Python 3 (ipykernel)",
   "language": "python",
   "name": "python3"
  },
  "language_info": {
   "codemirror_mode": {
    "name": "ipython",
    "version": 3
   },
   "file_extension": ".py",
   "mimetype": "text/x-python",
   "name": "python",
   "nbconvert_exporter": "python",
   "pygments_lexer": "ipython3",
   "version": "3.9.13"
  }
 },
 "nbformat": 4,
 "nbformat_minor": 5
}
